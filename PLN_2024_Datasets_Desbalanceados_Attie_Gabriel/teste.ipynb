{
 "cells": [
  {
   "cell_type": "code",
   "execution_count": 1,
   "metadata": {},
   "outputs": [
    {
     "name": "stdout",
     "output_type": "stream",
     "text": [
      "Campos que compõem cada registro:\n",
      "Index(['Unnamed: 0', 'id', 'Gender', 'Customer Type', 'Age', 'Type of Travel',\n",
      "       'Class', 'Flight Distance', 'Inflight wifi service',\n",
      "       'Departure/Arrival time convenient', 'Ease of Online booking',\n",
      "       'Gate location', 'Food and drink', 'Online boarding', 'Seat comfort',\n",
      "       'Inflight entertainment', 'On-board service', 'Leg room service',\n",
      "       'Baggage handling', 'Checkin service', 'Inflight service',\n",
      "       'Cleanliness', 'Departure Delay in Minutes', 'Arrival Delay in Minutes',\n",
      "       'satisfaction'],\n",
      "      dtype='object')\n"
     ]
    },
    {
     "data": {
      "text/html": [
       "<div>\n",
       "<style scoped>\n",
       "    .dataframe tbody tr th:only-of-type {\n",
       "        vertical-align: middle;\n",
       "    }\n",
       "\n",
       "    .dataframe tbody tr th {\n",
       "        vertical-align: top;\n",
       "    }\n",
       "\n",
       "    .dataframe thead th {\n",
       "        text-align: right;\n",
       "    }\n",
       "</style>\n",
       "<table border=\"1\" class=\"dataframe\">\n",
       "  <thead>\n",
       "    <tr style=\"text-align: right;\">\n",
       "      <th></th>\n",
       "      <th>Unnamed: 0</th>\n",
       "      <th>id</th>\n",
       "      <th>Gender</th>\n",
       "      <th>Customer Type</th>\n",
       "      <th>Age</th>\n",
       "      <th>Type of Travel</th>\n",
       "      <th>Class</th>\n",
       "      <th>Flight Distance</th>\n",
       "      <th>Inflight wifi service</th>\n",
       "      <th>Departure/Arrival time convenient</th>\n",
       "      <th>...</th>\n",
       "      <th>Inflight entertainment</th>\n",
       "      <th>On-board service</th>\n",
       "      <th>Leg room service</th>\n",
       "      <th>Baggage handling</th>\n",
       "      <th>Checkin service</th>\n",
       "      <th>Inflight service</th>\n",
       "      <th>Cleanliness</th>\n",
       "      <th>Departure Delay in Minutes</th>\n",
       "      <th>Arrival Delay in Minutes</th>\n",
       "      <th>satisfaction</th>\n",
       "    </tr>\n",
       "  </thead>\n",
       "  <tbody>\n",
       "    <tr>\n",
       "      <th>0</th>\n",
       "      <td>0</td>\n",
       "      <td>70172</td>\n",
       "      <td>Male</td>\n",
       "      <td>Loyal Customer</td>\n",
       "      <td>13</td>\n",
       "      <td>Personal Travel</td>\n",
       "      <td>Eco Plus</td>\n",
       "      <td>460</td>\n",
       "      <td>3</td>\n",
       "      <td>4</td>\n",
       "      <td>...</td>\n",
       "      <td>5</td>\n",
       "      <td>4</td>\n",
       "      <td>3</td>\n",
       "      <td>4</td>\n",
       "      <td>4</td>\n",
       "      <td>5</td>\n",
       "      <td>5</td>\n",
       "      <td>25</td>\n",
       "      <td>18.0</td>\n",
       "      <td>neutral or dissatisfied</td>\n",
       "    </tr>\n",
       "    <tr>\n",
       "      <th>1</th>\n",
       "      <td>1</td>\n",
       "      <td>5047</td>\n",
       "      <td>Male</td>\n",
       "      <td>disloyal Customer</td>\n",
       "      <td>25</td>\n",
       "      <td>Business travel</td>\n",
       "      <td>Business</td>\n",
       "      <td>235</td>\n",
       "      <td>3</td>\n",
       "      <td>2</td>\n",
       "      <td>...</td>\n",
       "      <td>1</td>\n",
       "      <td>1</td>\n",
       "      <td>5</td>\n",
       "      <td>3</td>\n",
       "      <td>1</td>\n",
       "      <td>4</td>\n",
       "      <td>1</td>\n",
       "      <td>1</td>\n",
       "      <td>6.0</td>\n",
       "      <td>neutral or dissatisfied</td>\n",
       "    </tr>\n",
       "    <tr>\n",
       "      <th>2</th>\n",
       "      <td>2</td>\n",
       "      <td>110028</td>\n",
       "      <td>Female</td>\n",
       "      <td>Loyal Customer</td>\n",
       "      <td>26</td>\n",
       "      <td>Business travel</td>\n",
       "      <td>Business</td>\n",
       "      <td>1142</td>\n",
       "      <td>2</td>\n",
       "      <td>2</td>\n",
       "      <td>...</td>\n",
       "      <td>5</td>\n",
       "      <td>4</td>\n",
       "      <td>3</td>\n",
       "      <td>4</td>\n",
       "      <td>4</td>\n",
       "      <td>4</td>\n",
       "      <td>5</td>\n",
       "      <td>0</td>\n",
       "      <td>0.0</td>\n",
       "      <td>satisfied</td>\n",
       "    </tr>\n",
       "    <tr>\n",
       "      <th>3</th>\n",
       "      <td>3</td>\n",
       "      <td>24026</td>\n",
       "      <td>Female</td>\n",
       "      <td>Loyal Customer</td>\n",
       "      <td>25</td>\n",
       "      <td>Business travel</td>\n",
       "      <td>Business</td>\n",
       "      <td>562</td>\n",
       "      <td>2</td>\n",
       "      <td>5</td>\n",
       "      <td>...</td>\n",
       "      <td>2</td>\n",
       "      <td>2</td>\n",
       "      <td>5</td>\n",
       "      <td>3</td>\n",
       "      <td>1</td>\n",
       "      <td>4</td>\n",
       "      <td>2</td>\n",
       "      <td>11</td>\n",
       "      <td>9.0</td>\n",
       "      <td>neutral or dissatisfied</td>\n",
       "    </tr>\n",
       "    <tr>\n",
       "      <th>4</th>\n",
       "      <td>4</td>\n",
       "      <td>119299</td>\n",
       "      <td>Male</td>\n",
       "      <td>Loyal Customer</td>\n",
       "      <td>61</td>\n",
       "      <td>Business travel</td>\n",
       "      <td>Business</td>\n",
       "      <td>214</td>\n",
       "      <td>3</td>\n",
       "      <td>3</td>\n",
       "      <td>...</td>\n",
       "      <td>3</td>\n",
       "      <td>3</td>\n",
       "      <td>4</td>\n",
       "      <td>4</td>\n",
       "      <td>3</td>\n",
       "      <td>3</td>\n",
       "      <td>3</td>\n",
       "      <td>0</td>\n",
       "      <td>0.0</td>\n",
       "      <td>satisfied</td>\n",
       "    </tr>\n",
       "  </tbody>\n",
       "</table>\n",
       "<p>5 rows × 25 columns</p>\n",
       "</div>"
      ],
      "text/plain": [
       "   Unnamed: 0      id  Gender      Customer Type  Age   Type of Travel  \\\n",
       "0           0   70172    Male     Loyal Customer   13  Personal Travel   \n",
       "1           1    5047    Male  disloyal Customer   25  Business travel   \n",
       "2           2  110028  Female     Loyal Customer   26  Business travel   \n",
       "3           3   24026  Female     Loyal Customer   25  Business travel   \n",
       "4           4  119299    Male     Loyal Customer   61  Business travel   \n",
       "\n",
       "      Class  Flight Distance  Inflight wifi service  \\\n",
       "0  Eco Plus              460                      3   \n",
       "1  Business              235                      3   \n",
       "2  Business             1142                      2   \n",
       "3  Business              562                      2   \n",
       "4  Business              214                      3   \n",
       "\n",
       "   Departure/Arrival time convenient  ...  Inflight entertainment  \\\n",
       "0                                  4  ...                       5   \n",
       "1                                  2  ...                       1   \n",
       "2                                  2  ...                       5   \n",
       "3                                  5  ...                       2   \n",
       "4                                  3  ...                       3   \n",
       "\n",
       "   On-board service  Leg room service  Baggage handling  Checkin service  \\\n",
       "0                 4                 3                 4                4   \n",
       "1                 1                 5                 3                1   \n",
       "2                 4                 3                 4                4   \n",
       "3                 2                 5                 3                1   \n",
       "4                 3                 4                 4                3   \n",
       "\n",
       "   Inflight service  Cleanliness  Departure Delay in Minutes  \\\n",
       "0                 5            5                          25   \n",
       "1                 4            1                           1   \n",
       "2                 4            5                           0   \n",
       "3                 4            2                          11   \n",
       "4                 3            3                           0   \n",
       "\n",
       "   Arrival Delay in Minutes             satisfaction  \n",
       "0                      18.0  neutral or dissatisfied  \n",
       "1                       6.0  neutral or dissatisfied  \n",
       "2                       0.0                satisfied  \n",
       "3                       9.0  neutral or dissatisfied  \n",
       "4                       0.0                satisfied  \n",
       "\n",
       "[5 rows x 25 columns]"
      ]
     },
     "execution_count": 1,
     "metadata": {},
     "output_type": "execute_result"
    }
   ],
   "source": [
    "import pandas as pd\n",
    "\n",
    "url = \"train.csv\"\n",
    "df = pd.read_csv(url , nrows=10000)\n",
    "\n",
    "print(\"Campos que compõem cada registro:\")\n",
    "print(df.columns)\n",
    "\n",
    "df.head()\n"
   ]
  },
  {
   "cell_type": "code",
   "execution_count": 2,
   "metadata": {},
   "outputs": [
    {
     "name": "stdout",
     "output_type": "stream",
     "text": [
      "Labels das classes existentes:\n",
      "['Loyal Customer' 'disloyal Customer']\n",
      "Quantidade de registros por classe:\n",
      "Customer Type\n",
      "Loyal Customer       8205\n",
      "disloyal Customer    1795\n",
      "Name: count, dtype: int64\n"
     ]
    }
   ],
   "source": [
    "print(\"Labels das classes existentes:\")\n",
    "print(df['Customer Type'].unique())\n",
    "\n",
    "print(\"Quantidade de registros por classe:\")\n",
    "print(df['Customer Type'].value_counts())\n"
   ]
  },
  {
   "cell_type": "code",
   "execution_count": 3,
   "metadata": {},
   "outputs": [
    {
     "name": "stdout",
     "output_type": "stream",
     "text": [
      "Quantidade de registros por número de labels:\n"
     ]
    },
    {
     "data": {
      "text/plain": [
       "Customer Type\n",
       "Loyal Customer       8205\n",
       "disloyal Customer    1795\n",
       "Name: count, dtype: int64"
      ]
     },
     "execution_count": 3,
     "metadata": {},
     "output_type": "execute_result"
    }
   ],
   "source": [
    "print(\"Quantidade de registros por número de labels:\")\n",
    "df['Customer Type'].value_counts()\n"
   ]
  },
  {
   "cell_type": "code",
   "execution_count": 4,
   "metadata": {},
   "outputs": [
    {
     "name": "stdout",
     "output_type": "stream",
     "text": [
      "Quantidade de registros com labels: 10000\n",
      "Quantidade de registros sem labels: 0\n"
     ]
    }
   ],
   "source": [
    "with_labels = df['Customer Type'].notna().sum()\n",
    "without_labels = df['Customer Type'].isna().sum()\n",
    "\n",
    "print(f\"Quantidade de registros com labels: {with_labels}\")\n",
    "print(f\"Quantidade de registros sem labels: {without_labels}\")\n",
    "\n"
   ]
  },
  {
   "cell_type": "code",
   "execution_count": 5,
   "metadata": {},
   "outputs": [
    {
     "data": {
      "text/html": [
       "<div>\n",
       "<style scoped>\n",
       "    .dataframe tbody tr th:only-of-type {\n",
       "        vertical-align: middle;\n",
       "    }\n",
       "\n",
       "    .dataframe tbody tr th {\n",
       "        vertical-align: top;\n",
       "    }\n",
       "\n",
       "    .dataframe thead th {\n",
       "        text-align: right;\n",
       "    }\n",
       "</style>\n",
       "<table border=\"1\" class=\"dataframe\">\n",
       "  <thead>\n",
       "    <tr style=\"text-align: right;\">\n",
       "      <th></th>\n",
       "      <th>Customer Type</th>\n",
       "      <th>Has_Label</th>\n",
       "    </tr>\n",
       "  </thead>\n",
       "  <tbody>\n",
       "    <tr>\n",
       "      <th>0</th>\n",
       "      <td>Loyal Customer</td>\n",
       "      <td>1</td>\n",
       "    </tr>\n",
       "    <tr>\n",
       "      <th>1</th>\n",
       "      <td>disloyal Customer</td>\n",
       "      <td>1</td>\n",
       "    </tr>\n",
       "    <tr>\n",
       "      <th>2</th>\n",
       "      <td>Loyal Customer</td>\n",
       "      <td>1</td>\n",
       "    </tr>\n",
       "    <tr>\n",
       "      <th>3</th>\n",
       "      <td>Loyal Customer</td>\n",
       "      <td>1</td>\n",
       "    </tr>\n",
       "    <tr>\n",
       "      <th>4</th>\n",
       "      <td>Loyal Customer</td>\n",
       "      <td>1</td>\n",
       "    </tr>\n",
       "  </tbody>\n",
       "</table>\n",
       "</div>"
      ],
      "text/plain": [
       "       Customer Type  Has_Label\n",
       "0     Loyal Customer          1\n",
       "1  disloyal Customer          1\n",
       "2     Loyal Customer          1\n",
       "3     Loyal Customer          1\n",
       "4     Loyal Customer          1"
      ]
     },
     "execution_count": 5,
     "metadata": {},
     "output_type": "execute_result"
    }
   ],
   "source": [
    "df['Has_Label'] = df['Customer Type'].notnull().astype(int)\n",
    "\n",
    "df[['Customer Type', 'Has_Label']].head()\n"
   ]
  },
  {
   "cell_type": "code",
   "execution_count": 6,
   "metadata": {},
   "outputs": [
    {
     "name": "stdout",
     "output_type": "stream",
     "text": [
      "Registros duplicados: 0\n",
      "Total de registros após remoção de duplicados: 10000\n"
     ]
    }
   ],
   "source": [
    "duplicated = df.duplicated().sum()\n",
    "print(f\"Registros duplicados: {duplicated}\")\n",
    "\n",
    "df_clean = df.drop_duplicates()\n",
    "\n",
    "print(f\"Total de registros após remoção de duplicados: {df_clean.shape[0]}\")\n"
   ]
  },
  {
   "cell_type": "code",
   "execution_count": 7,
   "metadata": {},
   "outputs": [
    {
     "data": {
      "image/png": "[encoded data removed]",
      "text/plain": [
       "<Figure size 1000x600 with 1 Axes>"
      ]
     },
     "metadata": {},
     "output_type": "display_data"
    }
   ],
   "source": [
    "import matplotlib.pyplot as plt\n",
    "\n",
    "plt.figure(figsize=(10, 6))\n",
    "plt.hist(df_clean['Customer Type'], bins=50, color='blue', edgecolor='black')\n",
    "plt.title('Distribuição de Customers')\n",
    "plt.xlabel('Tipos')\n",
    "plt.ylabel('Quantidade')\n",
    "plt.show()\n"
   ]
  },
  {
   "cell_type": "code",
   "execution_count": 8,
   "metadata": {},
   "outputs": [
    {
     "name": "stdout",
     "output_type": "stream",
     "text": [
      "Tamanho do conjunto de treinamento: 8000\n",
      "Tamanho do conjunto de validação: 1000\n",
      "Tamanho do conjunto de teste: 1000\n"
     ]
    }
   ],
   "source": [
    "from sklearn.model_selection import train_test_split\n",
    "\n",
    "# Definir as features (X) e o alvo (y)\n",
    "X = df_clean.drop(columns=['Customer Type'])  # Todas as colunas menos o alvo\n",
    "y = df_clean['Customer Type']  # Variável alvo\n",
    "\n",
    "# Dividir os dados em conjunto de treinamento, validação e teste (80% treino, 10% validação, 10% teste)\n",
    "X_train, X_temp, y_train, y_temp = train_test_split(X, y, test_size=0.2, stratify=y, random_state=42)\n",
    "X_val, X_test, y_val, y_test = train_test_split(X_temp, y_temp, test_size=0.5, stratify=y_temp, random_state=42)\n",
    "\n",
    "print(f\"Tamanho do conjunto de treinamento: {len(X_train)}\")\n",
    "print(f\"Tamanho do conjunto de validação: {len(X_val)}\")\n",
    "print(f\"Tamanho do conjunto de teste: {len(X_test)}\")\n",
    "\n"
   ]
  },
  {
   "cell_type": "code",
   "execution_count": 9,
   "metadata": {},
   "outputs": [
    {
     "name": "stdout",
     "output_type": "stream",
     "text": [
      "Valores nulos no conjunto:\n",
      "Unnamed: 0                            0\n",
      "id                                    0\n",
      "Gender                                0\n",
      "Customer Type                         0\n",
      "Age                                   0\n",
      "Type of Travel                        0\n",
      "Class                                 0\n",
      "Flight Distance                       0\n",
      "Inflight wifi service                 0\n",
      "Departure/Arrival time convenient     0\n",
      "Ease of Online booking                0\n",
      "Gate location                         0\n",
      "Food and drink                        0\n",
      "Online boarding                       0\n",
      "Seat comfort                          0\n",
      "Inflight entertainment                0\n",
      "On-board service                      0\n",
      "Leg room service                      0\n",
      "Baggage handling                      0\n",
      "Checkin service                       0\n",
      "Inflight service                      0\n",
      "Cleanliness                           0\n",
      "Departure Delay in Minutes            0\n",
      "Arrival Delay in Minutes             26\n",
      "satisfaction                          0\n",
      "Has_Label                             0\n",
      "dtype: int64\n",
      "Valores nulos após o tratamento:\n",
      "Unnamed: 0                           0\n",
      "id                                   0\n",
      "Gender                               0\n",
      "Customer Type                        0\n",
      "Age                                  0\n",
      "Type of Travel                       0\n",
      "Class                                0\n",
      "Flight Distance                      0\n",
      "Inflight wifi service                0\n",
      "Departure/Arrival time convenient    0\n",
      "Ease of Online booking               0\n",
      "Gate location                        0\n",
      "Food and drink                       0\n",
      "Online boarding                      0\n",
      "Seat comfort                         0\n",
      "Inflight entertainment               0\n",
      "On-board service                     0\n",
      "Leg room service                     0\n",
      "Baggage handling                     0\n",
      "Checkin service                      0\n",
      "Inflight service                     0\n",
      "Cleanliness                          0\n",
      "Departure Delay in Minutes           0\n",
      "Arrival Delay in Minutes             0\n",
      "satisfaction                         0\n",
      "Has_Label                            0\n",
      "dtype: int64\n"
     ]
    },
    {
     "name": "stderr",
     "output_type": "stream",
     "text": [
      "C:\\Users\\Gabriel\\AppData\\Local\\Temp\\ipykernel_27392\\3895873750.py:7: FutureWarning: A value is trying to be set on a copy of a DataFrame or Series through chained assignment using an inplace method.\n",
      "The behavior will change in pandas 3.0. This inplace method will never work because the intermediate object on which we are setting values always behaves as a copy.\n",
      "\n",
      "For example, when doing 'df[col].method(value, inplace=True)', try using 'df.method({col: value}, inplace=True)' or df[col] = df[col].method(value) instead, to perform the operation inplace on the original object.\n",
      "\n",
      "\n",
      "  df_clean[col].fillna(df_clean[col].mean(), inplace=True)\n",
      "C:\\Users\\Gabriel\\AppData\\Local\\Temp\\ipykernel_27392\\3895873750.py:11: FutureWarning: A value is trying to be set on a copy of a DataFrame or Series through chained assignment using an inplace method.\n",
      "The behavior will change in pandas 3.0. This inplace method will never work because the intermediate object on which we are setting values always behaves as a copy.\n",
      "\n",
      "For example, when doing 'df[col].method(value, inplace=True)', try using 'df.method({col: value}, inplace=True)' or df[col] = df[col].method(value) instead, to perform the operation inplace on the original object.\n",
      "\n",
      "\n",
      "  df_clean[col].fillna(df_clean[col].mode()[0], inplace=True)\n"
     ]
    }
   ],
   "source": [
    "# Verificar se existem valores nulos\n",
    "print(\"Valores nulos no conjunto:\")\n",
    "print(df_clean.isnull().sum())\n",
    "\n",
    "# Exemplo de tratamento para colunas numéricas:\n",
    "for col in df_clean.select_dtypes(include='number').columns:\n",
    "    df_clean[col].fillna(df_clean[col].mean(), inplace=True)\n",
    "\n",
    "# Exemplo de tratamento para colunas categóricas:\n",
    "for col in df_clean.select_dtypes(include='object').columns:\n",
    "    df_clean[col].fillna(df_clean[col].mode()[0], inplace=True)\n",
    "\n",
    "# Verificar novamente se há valores nulos\n",
    "print(\"Valores nulos após o tratamento:\")\n",
    "print(df_clean.isnull().sum())\n"
   ]
  },
  {
   "cell_type": "code",
   "execution_count": 10,
   "metadata": {},
   "outputs": [
    {
     "name": "stdout",
     "output_type": "stream",
     "text": [
      "Micro F1 Score: 0.56\n",
      "Macro F1 Score: 0.50\n"
     ]
    },
    {
     "data": {
      "image/png": "[encoded data removed]",
      "text/plain": [
       "<Figure size 1000x500 with 1 Axes>"
      ]
     },
     "metadata": {},
     "output_type": "display_data"
    }
   ],
   "source": [
    "from sklearn.model_selection import train_test_split\n",
    "from sklearn.naive_bayes import MultinomialNB\n",
    "from sklearn.metrics import f1_score\n",
    "import matplotlib.pyplot as plt\n",
    "import seaborn as sns\n",
    "from sklearn.preprocessing import LabelEncoder\n",
    "\n",
    "# Codificar variáveis categóricas\n",
    "for col in df_clean.select_dtypes(include='object').columns:\n",
    "    le = LabelEncoder()\n",
    "    df_clean[col] = le.fit_transform(df_clean[col])\n",
    "\n",
    "# Definir features (X) e o alvo (y)\n",
    "X = df_clean.drop(columns=['Customer Type'])  # Todas as colunas menos o alvo\n",
    "y = df_clean['Customer Type']  # Variável alvo\n",
    "\n",
    "# Dividir os dados em conjunto de treinamento, validação e teste \n",
    "X_train, X_temp, y_train, y_temp = train_test_split(X, y, test_size=0.2, stratify=y, random_state=42)\n",
    "X_val, X_test, y_val, y_test = train_test_split(X_temp, y_temp, test_size=0.5, stratify=y_temp, random_state=42)\n",
    "\n",
    "# Ajustar o modelo Naive Bayes\n",
    "nb_model = MultinomialNB()\n",
    "nb_model.fit(X_train, y_train)\n",
    "\n",
    "# Fazer previsões\n",
    "y_pred_val = nb_model.predict(X_val)\n",
    "\n",
    "# Calcular F1 scores\n",
    "micro_f1 = f1_score(y_val, y_pred_val, average='micro')\n",
    "macro_f1 = f1_score(y_val, y_pred_val, average='macro')\n",
    "\n",
    "# Exibir resultados\n",
    "print(f'Micro F1 Score: {micro_f1:.2f}')\n",
    "print(f'Macro F1 Score: {macro_f1:.2f}')\n",
    "\n",
    "# Plotar os resultados\n",
    "sns.set(style='whitegrid')\n",
    "plt.figure(figsize=(10, 5))\n",
    "plt.bar(['Micro F1 Score', 'Macro F1 Score'], [micro_f1, macro_f1], color=['blue', 'orange'])\n",
    "plt.ylabel('F1 Score')\n",
    "plt.title('F1 Scores para Naive Bayes')\n",
    "plt.ylim(0, 1)\n",
    "plt.show()\n"
   ]
  },
  {
   "cell_type": "code",
   "execution_count": 11,
   "metadata": {},
   "outputs": [
    {
     "name": "stderr",
     "output_type": "stream",
     "text": [
      "C:\\Users\\Gabriel\\AppData\\Local\\Temp\\ipykernel_27392\\3207368294.py:1: FutureWarning: A value is trying to be set on a copy of a DataFrame or Series through chained assignment using an inplace method.\n",
      "The behavior will change in pandas 3.0. This inplace method will never work because the intermediate object on which we are setting values always behaves as a copy.\n",
      "\n",
      "For example, when doing 'df[col].method(value, inplace=True)', try using 'df.method({col: value}, inplace=True)' or df[col] = df[col].method(value) instead, to perform the operation inplace on the original object.\n",
      "\n",
      "\n",
      "  df_clean['Arrival Delay in Minutes'].fillna(df_clean['Arrival Delay in Minutes'].mean(), inplace=True)\n"
     ]
    }
   ],
   "source": [
    "df_clean['Arrival Delay in Minutes'].fillna(df_clean['Arrival Delay in Minutes'].mean(), inplace=True)\n"
   ]
  },
  {
   "cell_type": "code",
   "execution_count": 12,
   "metadata": {},
   "outputs": [],
   "source": [
    "import torch\n",
    "from transformers import GPT2Tokenizer, GPT2Model\n",
    "import faiss\n",
    "import numpy as np\n",
    "\n",
    "# Certifique-se de usar GPU\n",
    "\n",
    "# Inicializar o tokenizer e o modelo do GPT-2\n",
    "tokenizer = GPT2Tokenizer.from_pretrained(\"miguelvictor/python-gpt2-large\")\n",
    "model = GPT2Model.from_pretrained(\"miguelvictor/python-gpt2-large\")\n",
    "\n",
    "# Adicionar um token de padding\n",
    "tokenizer.pad_token = tokenizer.eos_token  # Usar o token de fim de sequência como token de padding\n",
    "\n",
    "def get_embeddings(texts, batch_size=8):  # Tente um batch_size ainda menor\n",
    "    all_embeddings = []\n",
    "    for i in range(0, len(texts), batch_size):\n",
    "        batch_texts = texts[i:i + batch_size]\n",
    "        inputs = tokenizer(batch_texts, return_tensors=\"pt\", padding=True, truncation=True, max_length=50)\n",
    "        inputs = {key: val for key, val in inputs.items()}\n",
    "        with torch.no_grad():\n",
    "            outputs = model(**inputs)\n",
    "        embeddings = outputs.last_hidden_state.mean(dim=1).cpu().numpy()\n",
    "        all_embeddings.append(embeddings)\n",
    "    return np.vstack(all_embeddings)"
   ]
  },
  {
   "cell_type": "code",
   "execution_count": 13,
   "metadata": {},
   "outputs": [
    {
     "name": "stdout",
     "output_type": "stream",
     "text": [
      "Distâncias das K amostras mais semelhantes:\n",
      "[[21.352661 21.484253 21.831177 22.079346 22.567017]\n",
      " [27.047485 30.105652 30.796509 31.377075 31.620483]\n",
      " [ 9.654144 10.869141 12.638062 13.305176 14.903137]\n",
      " ...\n",
      " [20.74408  21.6167   22.35083  23.006409 23.221313]\n",
      " [21.791077 21.804077 22.584412 22.603882 23.705841]\n",
      " [25.219116 26.21228  26.670715 26.888428 28.565308]]\n",
      "Índices das K amostras mais semelhantes:\n",
      "[[ 239 6634  913 3010 6127]\n",
      " [2250 2411 1477  947 5850]\n",
      " [6777 5239 3494 5544 4975]\n",
      " ...\n",
      " [5949  415 3222 5722 5510]\n",
      " [5533 1440 5650 5036 1946]\n",
      " [2358 3605 5269 4417 7776]]\n"
     ]
    }
   ],
   "source": [
    "train_embeddings = np.load('train_embeddings.npy')\n",
    "val_embeddings = np.load('val_embeddings.npy')\n",
    "\n",
    "index = faiss.IndexFlatL2(train_embeddings.shape[1])  # Criar um índice\n",
    "index.add(train_embeddings)  # Adicionar embeddings de treinamento\n",
    "\n",
    "k = 5  # Defina o número de vizinhos\n",
    "D, I = index.search(val_embeddings, k) \n",
    "\n",
    "# Exibir resultados\n",
    "print(\"Distâncias das K amostras mais semelhantes:\")\n",
    "print(D)\n",
    "print(\"Índices das K amostras mais semelhantes:\")\n",
    "print(I)"
   ]
  },
  {
   "cell_type": "code",
   "execution_count": 14,
   "metadata": {},
   "outputs": [
    {
     "name": "stdout",
     "output_type": "stream",
     "text": [
      "   Unnamed: 0     id  Gender      Customer Type  Age   Type of Travel  \\\n",
      "0         239  15174    Male  disloyal Customer   23  Business travel   \n",
      "1        6634  71200  Female     Loyal Customer   23  Business travel   \n",
      "2         913  25090  Female     Loyal Customer   38  Business travel   \n",
      "3        3010  61362  Female     Loyal Customer   22  Business travel   \n",
      "4        6127  31503    Male     Loyal Customer   55  Business travel   \n",
      "\n",
      "      Class  Flight Distance  Inflight wifi service  \\\n",
      "0       Eco              416                      5   \n",
      "1  Business             3679                      2   \n",
      "2  Business             1947                      5   \n",
      "3  Business             2405                      2   \n",
      "4       Eco              846                      2   \n",
      "\n",
      "   Departure/Arrival time convenient  ...  On-board service  Leg room service  \\\n",
      "0                                  0  ...                 3                 5   \n",
      "1                                  2  ...                 5                 4   \n",
      "2                                  5  ...                 5                 5   \n",
      "3                                  1  ...                 2                 3   \n",
      "4                                  4  ...                 4                 2   \n",
      "\n",
      "   Baggage handling  Checkin service  Inflight service  Cleanliness  \\\n",
      "0                 5                3                 2            4   \n",
      "1                 4                3                 4            4   \n",
      "2                 5                3                 5            5   \n",
      "3                 4                2                 1            2   \n",
      "4                 3                2                 2            2   \n",
      "\n",
      "   Departure Delay in Minutes  Arrival Delay in Minutes  \\\n",
      "0                          18                       4.0   \n",
      "1                          23                      10.0   \n",
      "2                           0                       0.0   \n",
      "3                           0                       8.0   \n",
      "4                          16                      40.0   \n",
      "\n",
      "              satisfaction  Has_Label  \n",
      "0                satisfied          1  \n",
      "1                satisfied          1  \n",
      "2                satisfied          1  \n",
      "3  neutral or dissatisfied          1  \n",
      "4  neutral or dissatisfied          1  \n",
      "\n",
      "[5 rows x 26 columns]\n"
     ]
    }
   ],
   "source": [
    "k = 5\n",
    "query_idx = 0 \n",
    "nearest_indices = I[query_idx, :] \n",
    "\n",
    "nearest_records = df.iloc[nearest_indices].reset_index(drop=True)\n",
    "\n",
    "print(nearest_records.head(5))\n"
   ]
  }
 ],
 "metadata": {
  "kernelspec": {
   "display_name": "Python 3",
   "language": "python",
   "name": "python3"
  },
  "language_info": {
   "codemirror_mode": {
    "name": "ipython",
    "version": 3
   },
   "file_extension": ".py",
   "mimetype": "text/x-python",
   "name": "python",
   "nbconvert_exporter": "python",
   "pygments_lexer": "ipython3",
   "version": "3.10.8"
  }
 },
 "nbformat": 4,
 "nbformat_minor": 2
}
